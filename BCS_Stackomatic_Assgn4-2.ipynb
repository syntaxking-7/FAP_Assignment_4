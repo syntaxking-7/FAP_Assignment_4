{
  "cells": [
    {
      "cell_type": "code",
      "execution_count": 1,
      "metadata": {
        "colab": {
          "base_uri": "https://localhost:8080/"
        },
        "collapsed": true,
        "id": "fVZyymGbzZeW",
        "outputId": "f4d894dd-55b0-4169-bd34-f4e2239672c1"
      },
      "outputs": [
        {
          "output_type": "stream",
          "name": "stdout",
          "text": [
            "Collecting gymnasium\n",
            "  Downloading gymnasium-1.0.0-py3-none-any.whl.metadata (9.5 kB)\n",
            "Requirement already satisfied: numpy>=1.21.0 in /usr/local/lib/python3.11/dist-packages (from gymnasium) (1.26.4)\n",
            "Requirement already satisfied: cloudpickle>=1.2.0 in /usr/local/lib/python3.11/dist-packages (from gymnasium) (3.1.0)\n",
            "Requirement already satisfied: typing-extensions>=4.3.0 in /usr/local/lib/python3.11/dist-packages (from gymnasium) (4.12.2)\n",
            "Collecting farama-notifications>=0.0.1 (from gymnasium)\n",
            "  Downloading Farama_Notifications-0.0.4-py3-none-any.whl.metadata (558 bytes)\n",
            "Downloading gymnasium-1.0.0-py3-none-any.whl (958 kB)\n",
            "\u001b[?25l   \u001b[90m━━━━━━━━━━━━━━━━━━━━━━━━━━━━━━━━━━━━━━━━\u001b[0m \u001b[32m0.0/958.1 kB\u001b[0m \u001b[31m?\u001b[0m eta \u001b[36m-:--:--\u001b[0m\r\u001b[2K   \u001b[90m━━━━━━━━━━━━━━━━━━━━━━━━━━━━━━━━━━━━━━━━\u001b[0m \u001b[32m958.1/958.1 kB\u001b[0m \u001b[31m46.2 MB/s\u001b[0m eta \u001b[36m0:00:00\u001b[0m\n",
            "\u001b[?25hDownloading Farama_Notifications-0.0.4-py3-none-any.whl (2.5 kB)\n",
            "Installing collected packages: farama-notifications, gymnasium\n",
            "Successfully installed farama-notifications-0.0.4 gymnasium-1.0.0\n",
            "Collecting tetris_gymnasium\n",
            "  Downloading tetris_gymnasium-0.2.1-py3-none-any.whl.metadata (6.2 kB)\n",
            "Requirement already satisfied: gymnasium>=0.28.1 in /usr/local/lib/python3.11/dist-packages (from tetris_gymnasium) (1.0.0)\n",
            "Requirement already satisfied: numpy<2.0.0,>=1.21.6 in /usr/local/lib/python3.11/dist-packages (from tetris_gymnasium) (1.26.4)\n",
            "Requirement already satisfied: opencv-python<5.0.0.0,>=4.10.0.84 in /usr/local/lib/python3.11/dist-packages (from tetris_gymnasium) (4.10.0.84)\n",
            "Requirement already satisfied: cloudpickle>=1.2.0 in /usr/local/lib/python3.11/dist-packages (from gymnasium>=0.28.1->tetris_gymnasium) (3.1.0)\n",
            "Requirement already satisfied: typing-extensions>=4.3.0 in /usr/local/lib/python3.11/dist-packages (from gymnasium>=0.28.1->tetris_gymnasium) (4.12.2)\n",
            "Requirement already satisfied: farama-notifications>=0.0.1 in /usr/local/lib/python3.11/dist-packages (from gymnasium>=0.28.1->tetris_gymnasium) (0.0.4)\n",
            "Downloading tetris_gymnasium-0.2.1-py3-none-any.whl (24 kB)\n",
            "Installing collected packages: tetris_gymnasium\n",
            "Successfully installed tetris_gymnasium-0.2.1\n"
          ]
        }
      ],
      "source": [
        "!pip install gymnasium\n",
        "!pip install tetris_gymnasium"
      ]
    },
    {
      "cell_type": "code",
      "execution_count": 2,
      "metadata": {
        "id": "HHZ_tLymyYW_"
      },
      "outputs": [],
      "source": [
        "import gymnasium as gym\n",
        "from tetris_gymnasium.envs import Tetris\n",
        "import matplotlib\n",
        "import matplotlib.pyplot as plt"
      ]
    },
    {
      "cell_type": "markdown",
      "metadata": {
        "id": "MMoiL2SU8TKf"
      },
      "source": [
        "# Set up Colab"
      ]
    },
    {
      "cell_type": "code",
      "execution_count": 3,
      "metadata": {
        "id": "_WU__Xmn8aFC",
        "colab": {
          "base_uri": "https://localhost:8080/"
        },
        "outputId": "d91ce9f0-5dec-4c7f-b489-d09691e678bc"
      },
      "outputs": [
        {
          "output_type": "execute_result",
          "data": {
            "text/plain": [
              "<contextlib.ExitStack at 0x7b7a7d2e9f10>"
            ]
          },
          "metadata": {},
          "execution_count": 3
        }
      ],
      "source": [
        "env = gym.make('tetris_gymnasium/Tetris', render_mode='rgb_array')\n",
        "\n",
        "if 'inline' in matplotlib.get_backend():\n",
        "  from IPython import display\n",
        "plt.ion()"
      ]
    },
    {
      "cell_type": "markdown",
      "source": [
        "# Setting up for Training"
      ],
      "metadata": {
        "id": "8MQZWitRpl4_"
      }
    },
    {
      "cell_type": "code",
      "source": [
        "import torch\n",
        "import torch.nn as nn\n",
        "import torch.optim as optim\n",
        "import random\n",
        "import numpy as np\n",
        "from collections import deque\n",
        "\n",
        "class DQN(nn.Module):\n",
        "    def __init__(self):\n",
        "        super(DQN, self).__init__()\n",
        "\n",
        "        self.fc1_1 = nn.Linear(24 * 18, 512)\n",
        "        self.fc1_2 = nn.Linear(24 * 18, 512)\n",
        "        self.fc1_3 = nn.Linear(4 * 4, 64)\n",
        "        self.fc1_4 = nn.Linear(4 * 16, 64)\n",
        "\n",
        "        self.fc2 = nn.Linear(512 + 512 + 64 + 64, 512)\n",
        "        self.fc3 = nn.Linear(512, 8)\n",
        "\n",
        "    def forward(self, board, active_tetromino_mask, holder, queue):\n",
        "        x1 = torch.relu(self.fc1_1(board.view(1, 432)))\n",
        "        x2 = torch.relu(self.fc1_2(active_tetromino_mask.view(1, 432)))\n",
        "        x3 = torch.relu(self.fc1_3(holder.view(1, 16)))\n",
        "        x4 = torch.relu(self.fc1_4(queue.view(1, 64)))\n",
        "\n",
        "        x = torch.cat((x1, x2, x3, x4), dim=1)\n",
        "        x = torch.relu(self.fc2(x))\n",
        "        return self.fc3(x)\n",
        "\n",
        "class ReplayMemory:\n",
        "    def __init__(self, capacity):\n",
        "        self.memory = deque(maxlen=capacity)\n",
        "\n",
        "    def push(self, state, action, reward, next_state, done):\n",
        "        self.memory.append((state, action, reward, next_state, done))\n",
        "\n",
        "    def sample(self, batch_size):\n",
        "        return random.sample(self.memory, batch_size)\n",
        "\n",
        "    def __len__(self):\n",
        "        return len(self.memory)\n",
        "\n",
        "class DQNAgent:\n",
        "    def __init__(self, action_size, gamma=0.99, epsilon=1.0, epsilon_decay=0.995, epsilon_min=0.01, lr=1e-4, batch_size=32, memory_size=10000):\n",
        "        self.action_size = action_size\n",
        "        self.gamma = gamma\n",
        "        self.epsilon = epsilon\n",
        "        self.epsilon_decay = epsilon_decay\n",
        "        self.epsilon_min = epsilon_min\n",
        "        self.batch_size = batch_size\n",
        "\n",
        "        self.model = DQN()\n",
        "        self.optimizer = optim.Adam(self.model.parameters(), lr=lr)\n",
        "        self.loss_fn = nn.MSELoss()\n",
        "\n",
        "        self.memory = ReplayMemory(memory_size)\n",
        "\n",
        "    def act(self, state):\n",
        "        if np.random.rand() <= self.epsilon:\n",
        "            return random.randrange(self.action_size)\n",
        "\n",
        "        board = torch.tensor(state['board'], dtype=torch.float32)\n",
        "        active_tetromino_mask = torch.tensor(state['active_tetromino_mask'], dtype=torch.float32)\n",
        "        holder = torch.tensor(state['holder'], dtype=torch.float32)\n",
        "        queue = torch.tensor(state['queue'], dtype=torch.float32)\n",
        "\n",
        "        q_values = self.model(board, active_tetromino_mask, holder, queue)\n",
        "        return torch.argmax(q_values).item()\n",
        "\n",
        "    def replay(self):\n",
        "        if len(self.memory) < self.batch_size:\n",
        "            return\n",
        "\n",
        "        batch = self.memory.sample(self.batch_size)\n",
        "        for state, action, reward, next_state, done in batch:\n",
        "            board, active_tetromino_mask, holder, queue = state.values()\n",
        "            next_board, next_active_tetromino_mask, next_holder, next_queue = next_state.values()\n",
        "\n",
        "            board_tensor = torch.tensor(board, dtype=torch.float32)\n",
        "            active_tetromino_mask_tensor = torch.tensor(active_tetromino_mask, dtype=torch.float32)\n",
        "            holder_tensor = torch.tensor(holder, dtype=torch.float32)\n",
        "            queue_tensor = torch.tensor(queue, dtype=torch.float32)\n",
        "\n",
        "            next_board_tensor = torch.tensor(next_board, dtype=torch.float32)\n",
        "            next_active_tetromino_mask_tensor = torch.tensor(next_active_tetromino_mask, dtype=torch.float32)\n",
        "            next_holder_tensor = torch.tensor(next_holder, dtype=torch.float32)\n",
        "            next_queue_tensor = torch.tensor(next_queue, dtype=torch.float32)\n",
        "\n",
        "            next_q_values = self.model(next_board_tensor, next_active_tetromino_mask_tensor, next_holder_tensor, next_queue_tensor)\n",
        "            next_q_value = torch.max(next_q_values).item()\n",
        "\n",
        "            target_q_value = reward + (1 - done) * self.gamma * next_q_value\n",
        "\n",
        "            current_q_values = self.model(board_tensor, active_tetromino_mask_tensor, holder_tensor, queue_tensor)\n",
        "            current_q_value = current_q_values[0][action]\n",
        "\n",
        "            loss = self.loss_fn(current_q_value, torch.tensor(target_q_value, dtype=torch.float32))\n",
        "\n",
        "            self.optimizer.zero_grad()\n",
        "            loss.backward()\n",
        "            self.optimizer.step()\n",
        "\n",
        "        if self.epsilon > self.epsilon_min:\n",
        "            self.epsilon *= self.epsilon_decay\n",
        "\n",
        "    def train(self, env, num_episodes=1000):\n",
        "        for e in range(num_episodes):\n",
        "            state, _ = env.reset()\n",
        "            done = False\n",
        "            total_reward = 0\n",
        "\n",
        "            while not done:\n",
        "                action = self.act(state)\n",
        "                next_state, reward, terminated, truncated, _ = env.step(action)\n",
        "                done = terminated or truncated\n",
        "\n",
        "                self.memory.push(state, action, reward, next_state, done)\n",
        "\n",
        "                self.replay()\n",
        "\n",
        "                state = next_state\n",
        "                total_reward += reward\n",
        "\n",
        "            print(f\"Episode {e}/{num_episodes}, Total Reward: {total_reward}, Epsilon: {self.epsilon}\")"
      ],
      "metadata": {
        "id": "b883-4w1cOxe"
      },
      "execution_count": 4,
      "outputs": []
    },
    {
      "cell_type": "markdown",
      "source": [
        "# Training"
      ],
      "metadata": {
        "id": "L78GK5_Qpt2G"
      }
    },
    {
      "cell_type": "code",
      "source": [
        "agent = DQNAgent(action_size=8)\n",
        "agent.train(env, num_episodes=20)"
      ],
      "metadata": {
        "colab": {
          "base_uri": "https://localhost:8080/"
        },
        "collapsed": true,
        "id": "MaLp99VGcVl0",
        "outputId": "37a590d4-3b28-4674-db51-4168bf75508f"
      },
      "execution_count": 5,
      "outputs": [
        {
          "output_type": "stream",
          "name": "stdout",
          "text": [
            "Episode 0/20, Total Reward: 10, Epsilon: 0.9046104802746175\n",
            "Episode 1/20, Total Reward: 10, Epsilon: 0.7666961448653229\n",
            "Episode 2/20, Total Reward: 10, Epsilon: 0.5790496471185967\n",
            "Episode 3/20, Total Reward: 8, Epsilon: 0.500708706245853\n",
            "Episode 4/20, Total Reward: 8, Epsilon: 0.37627099809304654\n",
            "Episode 5/20, Total Reward: 13, Epsilon: 0.25578670228422234\n",
            "Episode 6/20, Total Reward: 11, Epsilon: 0.1473726336968319\n",
            "Episode 7/20, Total Reward: 12, Epsilon: 0.07416156859737154\n",
            "Episode 8/20, Total Reward: 16, Epsilon: 0.027350922279685573\n",
            "Episode 9/20, Total Reward: 13, Epsilon: 0.011263082556340478\n",
            "Episode 10/20, Total Reward: 15, Epsilon: 0.00998645168764533\n",
            "Episode 11/20, Total Reward: 11, Epsilon: 0.00998645168764533\n",
            "Episode 12/20, Total Reward: 16, Epsilon: 0.00998645168764533\n",
            "Episode 13/20, Total Reward: 10, Epsilon: 0.00998645168764533\n",
            "Episode 14/20, Total Reward: 10, Epsilon: 0.00998645168764533\n",
            "Episode 15/20, Total Reward: 15, Epsilon: 0.00998645168764533\n",
            "Episode 16/20, Total Reward: 17, Epsilon: 0.00998645168764533\n",
            "Episode 17/20, Total Reward: 16, Epsilon: 0.00998645168764533\n",
            "Episode 18/20, Total Reward: 11, Epsilon: 0.00998645168764533\n",
            "Episode 19/20, Total Reward: 16, Epsilon: 0.00998645168764533\n"
          ]
        }
      ]
    },
    {
      "cell_type": "markdown",
      "source": [
        "# Testing"
      ],
      "metadata": {
        "id": "ygJsLINgpwyK"
      }
    },
    {
      "cell_type": "code",
      "source": [
        "from pathlib import Path\n",
        "import numpy as np\n",
        "\n",
        "done = False\n",
        "total_reward = 0\n",
        "frames = []\n",
        "state, _ = env.reset()\n",
        "\n",
        "while not done:\n",
        "  action = agent.act(state)\n",
        "  next_state, reward, terminated, truncated, _ = env.step(action)\n",
        "  agent.memory.push(state, action, reward, next_state, done)\n",
        "  agent.replay()\n",
        "  frame = env.render()\n",
        "  frames.append(frame)\n",
        "  done = terminated or truncated\n",
        "  total_reward+=reward\n",
        "  state = next_state\n",
        "\n",
        "env.close()\n",
        "print(f'Total rewards: {total_reward}')\n",
        "\n",
        "import imageio\n",
        "video_path = 'tetris_test.mp4'\n",
        "imageio.mimsave(video_path, frames, fps=30)\n",
        "\n",
        "from IPython.display import HTML\n",
        "from base64 import b64encode\n",
        "mp4 = open(video_path,'rb').read()\n",
        "video_url = \"data:video/mp4;base64,\" + b64encode(mp4).decode()\n",
        "HTML(f'<video width=\"640\" height=\"480\" controls><source src=\"{video_url}\" type=\"video/mp4\"></video>')"
      ],
      "metadata": {
        "id": "JfZZmwYzkKsv",
        "colab": {
          "base_uri": "https://localhost:8080/",
          "height": 552
        },
        "outputId": "acd165e0-083c-49a4-f353-5052cd2e4655"
      },
      "execution_count": 6,
      "outputs": [
        {
          "output_type": "stream",
          "name": "stdout",
          "text": [
            "Total rewards: 13\n"
          ]
        },
        {
          "output_type": "stream",
          "name": "stderr",
          "text": [
            "WARNING:imageio_ffmpeg:IMAGEIO FFMPEG_WRITER WARNING: input image is not divisible by macro_block_size=16, resizing from (340, 240) to (352, 240) to ensure video compatibility with most codecs and players. To prevent resizing, make your input image divisible by the macro_block_size or set the macro_block_size to 1 (risking incompatibility).\n"
          ]
        },
        {
          "output_type": "execute_result",
          "data": {
            "text/plain": [
              "<IPython.core.display.HTML object>"
            ],
            "text/html": [
              "<video width=\"640\" height=\"480\" controls><source src=\"data:video/mp4;base64,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\" type=\"video/mp4\"></video>"
            ]
          },
          "metadata": {},
          "execution_count": 6
        }
      ]
    },
    {
      "cell_type": "code",
      "source": [],
      "metadata": {
        "id": "Sz2Iy4iQznhk"
      },
      "execution_count": null,
      "outputs": []
    }
  ],
  "metadata": {
    "colab": {
      "provenance": [],
      "gpuType": "T4"
    },
    "kernelspec": {
      "display_name": "Python 3",
      "name": "python3"
    },
    "language_info": {
      "name": "python"
    },
    "accelerator": "GPU"
  },
  "nbformat": 4,
  "nbformat_minor": 0
}